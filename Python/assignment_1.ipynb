{
 "cells": [
  {
   "cell_type": "markdown",
   "metadata": {},
   "source": [
    "# 1.Calculate Area of Circle\n",
    "Write a Python program which accepts the radius of a circle from the user and compute the area."
   ]
  },
  {
   "cell_type": "code",
   "execution_count": 2,
   "metadata": {},
   "outputs": [
    {
     "name": "stdout",
     "output_type": "stream",
     "text": [
      "Enter Radius : 2\n",
      "Area of circle with radius 2.0 is 12.56636 \n"
     ]
    }
   ],
   "source": [
    "userInput = float(input(\"Enter Radius : \"))\n",
    "areaOfCircle = 3.14159 * userInput ** 2\n",
    "print(\"Area of circle with radius {} is {} \".format(userInput,areaOfCircle))"
   ]
  },
  {
   "cell_type": "markdown",
   "metadata": {},
   "source": [
    "# 2. Check Number either positive, negative or zero\n",
    "Write a Python program to check if a number is positive, negative or zero"
   ]
  },
  {
   "cell_type": "code",
   "execution_count": 3,
   "metadata": {},
   "outputs": [
    {
     "name": "stdout",
     "output_type": "stream",
     "text": [
      "Enter Integer : 4\n",
      "Positive Number Entered.\n"
     ]
    }
   ],
   "source": [
    "userInput = int(input(\"Enter Integer : \"))\n",
    "if userInput < 0 :\n",
    "    print(\"Negative Number Entered.\")\n",
    "elif userInput == 0:\n",
    "    print(\"Zero Entered.\")\n",
    "else:\n",
    "    print(\"Positive Number Entered.\")"
   ]
  },
  {
   "cell_type": "markdown",
   "metadata": {},
   "source": [
    "# 3. Divisibility Check of two numbers\n",
    "Write a Python program to check whether a number is completely divisible by another number. Accept two integer values form the user"
   ]
  },
  {
   "cell_type": "code",
   "execution_count": 4,
   "metadata": {},
   "outputs": [
    {
     "name": "stdout",
     "output_type": "stream",
     "text": [
      "Enter Numerator : 13\n",
      "Enter Denominator : 2\n",
      "Number 13 is not Completely divisible by 2\n"
     ]
    }
   ],
   "source": [
    "numerator = int(input(\"Enter Numerator : \"))\n",
    "denominator = int(input(\"Enter Denominator : \"))\n",
    "if (numerator%denominator) == 0:\n",
    "    print(\"Number {} is Completely divisible by {}\".format(numerator,denominator))\n",
    "else:\n",
    "    print(\"Number {} is not Completely divisible by {}\".format(numerator,denominator))"
   ]
  },
  {
   "cell_type": "markdown",
   "metadata": {},
   "source": [
    "# 4. Days Calculator\n",
    "Write a Python program to calculate number of days between two dates"
   ]
  },
  {
   "cell_type": "code",
   "execution_count": 14,
   "metadata": {},
   "outputs": [
    {
     "name": "stdout",
     "output_type": "stream",
     "text": [
      "Enter a date in (dd/mm/yy) format : 06/09/1999\n",
      "Enter a date in (dd/mm/yy) format : 18/09/1999\n",
      "There are 12 days between 06/09/1999 and 18/09/1999.\n"
     ]
    }
   ],
   "source": [
    "import datetime\n",
    "firstDate = input(\"Enter a date in (dd/mm/yy) format : \")\n",
    "secondDate = input(\"Enter a date in (dd/mm/yy) format : \")\n",
    "firstDay = datetime.datetime.strptime(firstDate, '%d/%m/%Y').date()\n",
    "secondDay = datetime.datetime.strptime(secondDate, '%d/%m/%Y').date()\n",
    "days = secondDay.day - firstDay.day\n",
    "print(\"There are {} days between {} and {}.\".format(days, firstDate ,secondDate))"
   ]
  },
  {
   "cell_type": "markdown",
   "metadata": {},
   "source": [
    "# 5. Calculate Volume of a sphere\n",
    "Write a Python program to get the volume of a sphere, please take the radius as input from user\n"
   ]
  },
  {
   "cell_type": "code",
   "execution_count": 24,
   "metadata": {},
   "outputs": [
    {
     "name": "stdout",
     "output_type": "stream",
     "text": [
      "Enter radius of Sphere : 1\n",
      "Volume of the Sphere with Radius 1.0 is 4.188786666666666.\n"
     ]
    }
   ],
   "source": [
    "radius = float(input(\"Enter radius of Sphere : \"))\n",
    "volume = (4/3) * 3.14159 * (radius**3)\n",
    "print(\"Volume of the Sphere with Radius {} is {}.\".format(radius, volume))"
   ]
  },
  {
   "cell_type": "markdown",
   "metadata": {},
   "source": [
    "# 6. Copy string n times\n",
    "Write a Python program to get a string which is n (non-negative integer) copies of a given string. "
   ]
  },
  {
   "cell_type": "code",
   "execution_count": 29,
   "metadata": {},
   "outputs": [
    {
     "name": "stdout",
     "output_type": "stream",
     "text": [
      "Enter String : hi\n",
      "How many copies of String you need : 8\n",
      "Copies of hi are : hihihihihihihihi\n"
     ]
    }
   ],
   "source": [
    "userInput = input(\"Enter String : \")\n",
    "steps = int(input(\"How many copies of String you need : \"))\n",
    "print(\"Copies of \"+userInput+\" are : \"+userInput*steps)\n"
   ]
  },
  {
   "cell_type": "markdown",
   "metadata": {},
   "source": [
    "# 7. Check if number is Even or Odd\n",
    "Write a Python program to find whether a given number (accept from the user) is even or odd, print out an appropriate message to the user"
   ]
  },
  {
   "cell_type": "code",
   "execution_count": 39,
   "metadata": {},
   "outputs": [
    {
     "name": "stdout",
     "output_type": "stream",
     "text": [
      "Enter Integer :23\n",
      "23 is Odd.\n"
     ]
    }
   ],
   "source": [
    "userInput = int(input(\"Enter Integer :\"))\n",
    "if (userInput%2) == 0:\n",
    "    print(str(userInput)+\" is Even.\")\n",
    "else:\n",
    "    print(str(userInput)+\" is Odd.\")"
   ]
  },
  {
   "cell_type": "markdown",
   "metadata": {},
   "source": [
    "# 8. Vowel Tester\n",
    "Write a Python program to test whether a passed letter is a vowel or not"
   ]
  },
  {
   "cell_type": "code",
   "execution_count": 56,
   "metadata": {},
   "outputs": [
    {
     "name": "stdout",
     "output_type": "stream",
     "text": [
      "Enter a Character :u\n",
      "Letter u is Vowel.\n"
     ]
    }
   ],
   "source": [
    "userInput = input(\"Enter a Character :\")\n",
    "if (userInput.lower() == 'a') or (userInput.lower() == 'e') or (userInput.lower() == 'i') or(userInput.lower() == 'o') or (userInput.lower() == 'u'):\n",
    "    print(\"Letter \"+userInput+\" is Vowel.\")\n",
    "else:\n",
    "    print(\"Letter \"+userInput+\" is not Vowel.\")"
   ]
  },
  {
   "cell_type": "markdown",
   "metadata": {},
   "source": [
    "# 9. Triangle area\n",
    "Write a Python program that will accept the base and height of a triangle and compute the area\n"
   ]
  },
  {
   "cell_type": "code",
   "execution_count": 57,
   "metadata": {},
   "outputs": [
    {
     "name": "stdout",
     "output_type": "stream",
     "text": [
      "Enter Magnitude of Triangle Base : 4\n",
      "Enter Magnitude of Triangle Height : 4\n",
      "Area of a Triangle with Height 4.0 and Base 4.0 is 8.0.\n"
     ]
    }
   ],
   "source": [
    "base = float(input(\"Enter Magnitude of Triangle Base : \"))\n",
    "height = float(input(\"Enter Magnitude of Triangle Height : \"))\n",
    "area = (base * height) / 2\n",
    "print(\"Area of a Triangle with Height {} and Base {} is {}.\".format(height, base, area))"
   ]
  },
  {
   "cell_type": "markdown",
   "metadata": {},
   "source": [
    "# 10. Calculate Interest\n",
    "Write a Python program to compute the future value of a specified principal amount, rate of interest, and a number of years"
   ]
  },
  {
   "cell_type": "code",
   "execution_count": 67,
   "metadata": {},
   "outputs": [
    {
     "name": "stdout",
     "output_type": "stream",
     "text": [
      "Please enter principal amount : 10000\n",
      "Please Enter Rate of interest in % : 5\n",
      "Enter number of years for investment : 5\n",
      "After 5.0 years your principal amount 10000.0 over an interest rate of 5.0 % will be 12500.0.\n"
     ]
    }
   ],
   "source": [
    "amount = float(input(\"Please enter principal amount : \"))\n",
    "interset = float(input(\"Please Enter Rate of interest in % : \"))\n",
    "time = float(input(\"Enter number of years for investment : \"))\n",
    "ans = amount * (1 + ((interset / 100)* time))\n",
    "print(\"After {} years your principal amount {} over an interest rate of {} % will be {}.\".format(time, amount, interset, ans))"
   ]
  },
  {
   "cell_type": "markdown",
   "metadata": {},
   "source": [
    "# 11. Euclidean distance\n",
    "Write a Python program to compute the distance between the points (x1, y1) and (x2, y2).\n"
   ]
  },
  {
   "cell_type": "code",
   "execution_count": 73,
   "metadata": {},
   "outputs": [
    {
     "name": "stdout",
     "output_type": "stream",
     "text": [
      "Enter Co-ordinate for x1: 2\n",
      "Enter Co-ordinate for x2: 4\n",
      "Enter Co-ordinate for y1: 4\n",
      "Enter Co-ordinate for y2: 4\n",
      "Distance between points (2.0, 4.0) and (4.0, 4.0) is 2.0.\n"
     ]
    }
   ],
   "source": [
    "x1 = float(input(\"Enter Co-ordinate for x1: \"))\n",
    "x2 = float(input(\"Enter Co-ordinate for x2: \"))\n",
    "y1 = float(input(\"Enter Co-ordinate for y1: \"))\n",
    "y2 = float(input(\"Enter Co-ordinate for y2: \"))\n",
    "distance = (((x2 - x1)**2) + ((y2 - y1)**2))**(1/2)\n",
    "print(\"Distance between points ({}, {}) and ({}, {}) is {}.\".format(x1,x2,y1,y2,distance))"
   ]
  },
  {
   "cell_type": "markdown",
   "metadata": {},
   "source": [
    "# 12. Feet to Centimeter Converter\n",
    "Write a Python program to convert height in feet to centimetres."
   ]
  },
  {
   "cell_type": "code",
   "execution_count": 74,
   "metadata": {},
   "outputs": [
    {
     "name": "stdout",
     "output_type": "stream",
     "text": [
      "Enter height in feet : 5\n",
      "There are 152.4 cm in 5.0 ft\n"
     ]
    }
   ],
   "source": [
    "feet = float(input(\"Enter height in feet : \"))\n",
    "centimeter = feet * 30.48\n",
    "print(\"There are {} cm in {} ft\".format(centimeter, feet))"
   ]
  },
  {
   "cell_type": "markdown",
   "metadata": {},
   "source": [
    "# 13. BMI Calculator\n",
    "Write a Python program to calculate body mass index"
   ]
  },
  {
   "cell_type": "code",
   "execution_count": 78,
   "metadata": {},
   "outputs": [
    {
     "name": "stdout",
     "output_type": "stream",
     "text": [
      "Enter Height in cm :180\n",
      "Enter weight in Kg :75\n",
      "Your BMI is 23.148\n"
     ]
    }
   ],
   "source": [
    "height = float(input(\"Enter Height in cm :\"))\n",
    "height /= 100 # cm to meter conversion\n",
    "weight = float(input(\"Enter weight in Kg :\"))\n",
    "bmi = weight / (height**2)\n",
    "print(\"Your BMI is %.3f\" %bmi)"
   ]
  },
  {
   "cell_type": "markdown",
   "metadata": {},
   "source": [
    "# 14. Sum of n Positive Integers\n",
    "Write a python program to sum of the first n positive integers"
   ]
  },
  {
   "cell_type": "code",
   "execution_count": 83,
   "metadata": {},
   "outputs": [
    {
     "name": "stdout",
     "output_type": "stream",
     "text": [
      "Enter value of n : 190\n",
      "Sum of n Positive integers till 190 is 18145\n"
     ]
    }
   ],
   "source": [
    "userInput = int(input(\"Enter value of n : \"))\n",
    "sum = 0\n",
    "for step in range(userInput):\n",
    "    step += 1\n",
    "    sum += step\n",
    "print(\"Sum of n Positive integers till {} is {}.\".format(userInput, sum))"
   ]
  },
  {
   "cell_type": "markdown",
   "metadata": {},
   "source": [
    "# 15. Digits Sum of a Number\n",
    "Write a Python program to calculate the sum of the digits in an integer"
   ]
  },
  {
   "cell_type": "code",
   "execution_count": 101,
   "metadata": {},
   "outputs": [
    {
     "name": "stdout",
     "output_type": "stream",
     "text": [
      "Enter a number : 123456\n",
      "Sum of  1 + 2 + 3 + 4 + 5 + 6 is 21.0\n"
     ]
    }
   ],
   "source": [
    "userInput = input(\"Enter a number : \")\n",
    "sum = 0\n",
    "for n in userInput:\n",
    "    sum += int(n)\n",
    "print(\"Sum of \",end = \" \")\n",
    "print(*userInput,sep = ' + ',end = \" \")\n",
    "print(\"is %.1f\" %sum)"
   ]
  },
  {
   "cell_type": "markdown",
   "metadata": {},
   "source": [
    "# 16. Decimal to Binary Converter\n",
    "Write a Python program to convert an decimal integer to binary"
   ]
  },
  {
   "cell_type": "code",
   "execution_count": 127,
   "metadata": {},
   "outputs": [
    {
     "name": "stdout",
     "output_type": "stream",
     "text": [
      "Enter a decimal number : 8\n",
      "Binary Representation of 8 1000"
     ]
    }
   ],
   "source": [
    "def binaryConverter(userInput):\n",
    "    if userInput > 1:\n",
    "        binaryConverter(userInput//2)\n",
    "    print(userInput%2,end=\"\")\n",
    "    \n",
    "userInput = int(input(\"Enter a decimal number : \"))\n",
    "print(\"Binary Representation of %d\" %userInput,end = \" \")\n",
    "binaryConverter(userInput)"
   ]
  },
  {
   "cell_type": "markdown",
   "metadata": {},
   "source": [
    "# 17. Binary to Decimal Converter\n",
    "Write a program to convert binary number to Decimal number"
   ]
  },
  {
   "cell_type": "code",
   "execution_count": 136,
   "metadata": {},
   "outputs": [
    {
     "name": "stdout",
     "output_type": "stream",
     "text": [
      "Enter a Binary Number : 100000\n",
      "Decimal Representation of 100000 is 32.\n"
     ]
    }
   ],
   "source": [
    "userInput = int(input(\"Enter a Binary Number : \"))\n",
    "binary = list(str(userInput))\n",
    "decimal = 0 \n",
    "counter = 0\n",
    "for i in reversed(binary):\n",
    "    decimal += 2**counter * int(i)\n",
    "    counter += 1\n",
    "print(\"Decimal Representation of %d\"%userInput,end = \"\")\n",
    "print(\" is %d.\" %decimal)"
   ]
  },
  {
   "cell_type": "markdown",
   "metadata": {},
   "source": [
    "# 18. Vowel and Consonants Counter\n",
    "Input a text and count the occurrences of vowels and consonant"
   ]
  },
  {
   "cell_type": "code",
   "execution_count": 141,
   "metadata": {},
   "outputs": [
    {
     "name": "stdout",
     "output_type": "stream",
     "text": [
      "Enter text : QuickBrownFoxJumpsovertheDog\n",
      "Vowels : 9\n",
      "Consonant : 19\n"
     ]
    }
   ],
   "source": [
    "userInput  = input(\"Enter text : \")\n",
    "l1 = list(userInput)\n",
    "vowel , consonant = 0 ,0 \n",
    "for character in l1:\n",
    "    if (character.lower() == 'a') or (character.lower() == 'e') or (character.lower() == 'i') or (character.lower() == 'o') or (character.lower() == 'u'):\n",
    "        vowel += 1\n",
    "    else:\n",
    "        consonant += 1\n",
    "print(\"Vowels : %d\"%vowel)\n",
    "print(\"Consonant : %d\"%consonant)"
   ]
  },
  {
   "cell_type": "markdown",
   "metadata": {},
   "source": [
    "# 19. Palindrome tester\n",
    "Write a program to check whether given input is palindrome or not"
   ]
  },
  {
   "cell_type": "code",
   "execution_count": 167,
   "metadata": {},
   "outputs": [
    {
     "name": "stdout",
     "output_type": "stream",
     "text": [
      "Enter Text :aha\n",
      "Text aha is a Palindrome\n"
     ]
    }
   ],
   "source": [
    "def isPalindrome(userInput):\n",
    "    for i in range(0,int(len(userInput)/2)):\n",
    "        if userInput[i] != userInput[len(userInput)-i-1]:\n",
    "            return False\n",
    "    return True\n",
    "\n",
    "userInput = input(\"Enter Text :\")\n",
    "catch = isPalindrome(userInput)\n",
    "if catch:\n",
    "    print(\"Text \"+userInput+\" is a Palindrome\")\n",
    "else:\n",
    "    print(\"Text \"+userInput+\" is not a Palindrome\")"
   ]
  },
  {
   "cell_type": "markdown",
   "metadata": {},
   "source": [
    "# 20. Count Alphabets, Numbers and Special Characters\n",
    "Write a Python program that accepts a string and calculate the number of digits and letters\n"
   ]
  },
  {
   "cell_type": "code",
   "execution_count": 195,
   "metadata": {},
   "outputs": [
    {
     "name": "stdout",
     "output_type": "stream",
     "text": [
      "Enter text : python 3.2\n",
      "Number : 2\n",
      "Characters : 1\n",
      "Alphaberts : 6\n",
      "Spaces : 1\n"
     ]
    }
   ],
   "source": [
    "userInput = input(\"Enter text : \")\n",
    "mylist = map(ord,list(userInput))\n",
    "numbers, alphabets ,spaces, characters = 0,0,0,0\n",
    "for each in mylist:\n",
    "    if (each >= 65 and each <= 90) or (each >= 97 and each <= 122):\n",
    "        alphabets += 1\n",
    "    elif (each >= 48 and each <= 57):\n",
    "        numbers += 1\n",
    "    elif each == 32:\n",
    "        spaces += 1\n",
    "    else:\n",
    "        characters += 1\n",
    "print(\"Number : %d\"%numbers)\n",
    "print(\"Characters : %d\" %characters)\n",
    "print(\"Alphaberts : %d\"%alphabets)\n",
    "print(\"Spaces : %d\"%spaces)\n",
    "        "
   ]
  },
  {
   "cell_type": "markdown",
   "metadata": {},
   "source": [
    "# 21. Write a Python program to construct the following pattern\n",
    "\n",
    "* \n",
    "* * \n",
    "* * * \n",
    "* * * * \n",
    "* * * * * \n",
    "* * * * \n",
    "* * * \n",
    "* * \n",
    "*"
   ]
  },
  {
   "cell_type": "code",
   "execution_count": 214,
   "metadata": {},
   "outputs": [
    {
     "name": "stdout",
     "output_type": "stream",
     "text": [
      "*\n",
      "**\n",
      "***\n",
      "****\n",
      "*****\n",
      "****\n",
      "***\n",
      "**\n",
      "*\n"
     ]
    }
   ],
   "source": [
    "for i in range(1,6):\n",
    "    temp = \"*\"*i\n",
    "    print(temp)\n",
    "for i in range(4,0,-1):\n",
    "    temp = \"*\"*i\n",
    "    print(temp)"
   ]
  },
  {
   "cell_type": "markdown",
   "metadata": {},
   "source": [
    "# 22. Write a Python program to construct the following pattern\n",
    "\n",
    "1 \n",
    "1 2 \n",
    "1 2 3 \n",
    "1 2 3 4 \n",
    "1 2 3 4 5 \n",
    "1 2 3 4 \n",
    "1 2 3 \n",
    "1 2 \n",
    "1"
   ]
  },
  {
   "cell_type": "code",
   "execution_count": 235,
   "metadata": {},
   "outputs": [
    {
     "name": "stdout",
     "output_type": "stream",
     "text": [
      "\n",
      "1 \n",
      "1 2 \n",
      "1 2 3 \n",
      "1 2 3 4 \n",
      "1 2 3 4 5 \n",
      "1 2 3 4 \n",
      "1 2 3 \n",
      "1 2 \n",
      "1 \n"
     ]
    }
   ],
   "source": [
    "for i in range(1,7):\n",
    "    for j in range(1,i):\n",
    "        print(j,end=\" \")\n",
    "    print()\n",
    "for i in range(5,1,-1):\n",
    "    for j in range(1,i,1):\n",
    "        print(j,end=\" \")\n",
    "    print()"
   ]
  },
  {
   "cell_type": "markdown",
   "metadata": {},
   "source": [
    "# 23. Write a Python program to construct the following pattern\n",
    "\n",
    "1\n",
    "22\n",
    "333\n",
    "4444\n",
    "55555\n",
    "666666\n",
    "7777777\n",
    "88888888\n",
    "999999999"
   ]
  },
  {
   "cell_type": "code",
   "execution_count": 1,
   "metadata": {},
   "outputs": [
    {
     "name": "stdout",
     "output_type": "stream",
     "text": [
      "1\n",
      "22\n",
      "333\n",
      "4444\n",
      "55555\n",
      "666666\n",
      "7777777\n",
      "88888888\n",
      "999999999\n"
     ]
    }
   ],
   "source": [
    "for i in range(1,10):\n",
    "    print(str(i)*i)"
   ]
  }
 ],
 "metadata": {
  "kernelspec": {
   "display_name": "Python 3",
   "language": "python",
   "name": "python3"
  },
  "language_info": {
   "codemirror_mode": {
    "name": "ipython",
    "version": 3
   },
   "file_extension": ".py",
   "mimetype": "text/x-python",
   "name": "python",
   "nbconvert_exporter": "python",
   "pygments_lexer": "ipython3",
   "version": "3.7.3"
  }
 },
 "nbformat": 4,
 "nbformat_minor": 2
}
