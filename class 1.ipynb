{
 "cells": [
  {
   "cell_type": "code",
   "execution_count": 1,
   "metadata": {},
   "outputs": [
    {
     "name": "stdout",
     "output_type": "stream",
     "text": [
      "Hello World !\n"
     ]
    }
   ],
   "source": [
    "print(\"Hello World !\")"
   ]
  },
  {
   "cell_type": "code",
   "execution_count": 2,
   "metadata": {},
   "outputs": [
    {
     "name": "stdout",
     "output_type": "stream",
     "text": [
      "Danish Riaz Kashif Khan\n"
     ]
    }
   ],
   "source": [
    "print(\"Danish Riaz\",\"Kashif\",\"Khan\")"
   ]
  },
  {
   "cell_type": "code",
   "execution_count": 3,
   "metadata": {},
   "outputs": [
    {
     "name": "stdout",
     "output_type": "stream",
     "text": [
      "Danish Riaz**Kashif**Khan\n"
     ]
    }
   ],
   "source": [
    "print(\"Danish Riaz\",\"Kashif\",\"Khan\", sep=\"**\")"
   ]
  },
  {
   "cell_type": "code",
   "execution_count": 4,
   "metadata": {},
   "outputs": [
    {
     "name": "stdout",
     "output_type": "stream",
     "text": [
      "Danish Riaz//Kashif//Khan\n"
     ]
    }
   ],
   "source": [
    "print(\"Danish Riaz\",\"Kashif\",\"Khan\", sep=\"//\")"
   ]
  },
  {
   "cell_type": "code",
   "execution_count": 5,
   "metadata": {},
   "outputs": [
    {
     "name": "stdout",
     "output_type": "stream",
     "text": [
      "Danish RiazKashifKhan\n"
     ]
    }
   ],
   "source": [
    "print(\"Danish Riaz\",\"Kashif\",\"Khan\", sep=\"\")"
   ]
  },
  {
   "cell_type": "code",
   "execution_count": 6,
   "metadata": {},
   "outputs": [
    {
     "name": "stdout",
     "output_type": "stream",
     "text": [
      "danish\n",
      "Aslam\n",
      "A.I\n",
      "Pakistan\n"
     ]
    }
   ],
   "source": [
    "print(\"danish\")\n",
    "print(\"Aslam\")\n",
    "print(\"A.I\")\n",
    "print(\"Pakistan\")"
   ]
  },
  {
   "cell_type": "code",
   "execution_count": 7,
   "metadata": {},
   "outputs": [
    {
     "name": "stdout",
     "output_type": "stream",
     "text": [
      "danish Aslam A.I Pakistan "
     ]
    }
   ],
   "source": [
    "print(\"danish\", end=\" \")\n",
    "print(\"Aslam\", end=\" \")\n",
    "print(\"A.I\", end=\" \")\n",
    "print(\"Pakistan\", end=\" \")"
   ]
  }
 ],
 "metadata": {
  "kernelspec": {
   "display_name": "Python 3",
   "language": "python",
   "name": "python3"
  },
  "language_info": {
   "codemirror_mode": {
    "name": "ipython",
    "version": 3
   },
   "file_extension": ".py",
   "mimetype": "text/x-python",
   "name": "python",
   "nbconvert_exporter": "python",
   "pygments_lexer": "ipython3",
   "version": "3.7.3"
  }
 },
 "nbformat": 4,
 "nbformat_minor": 2
}
