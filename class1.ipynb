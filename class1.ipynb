{
 "cells": [
  {
   "cell_type": "code",
   "execution_count": 1,
   "metadata": {},
   "outputs": [
    {
     "name": "stdout",
     "output_type": "stream",
     "text": [
      "danish\n"
     ]
    }
   ],
   "source": [
    "print(\"danish\")"
   ]
  },
  {
   "cell_type": "code",
   "execution_count": 2,
   "metadata": {},
   "outputs": [
    {
     "name": "stdout",
     "output_type": "stream",
     "text": [
      "danish\n",
      "riaz\n",
      "A.I\n",
      "Pakistan\n"
     ]
    }
   ],
   "source": [
    "print(\"danish\")\n",
    "print(\"riaz\")\n",
    "print(\"A.I\")\n",
    "print(\"Pakistan\")"
   ]
  },
  {
   "cell_type": "code",
   "execution_count": 3,
   "metadata": {},
   "outputs": [
    {
     "name": "stdout",
     "output_type": "stream",
     "text": [
      "danish john jimi albert\n"
     ]
    }
   ],
   "source": [
    "print(\"danish\",\"john\",\"jimi\",\"albert\")"
   ]
  },
  {
   "cell_type": "code",
   "execution_count": 4,
   "metadata": {},
   "outputs": [
    {
     "name": "stdout",
     "output_type": "stream",
     "text": [
      "danish***john***jimi***albert\n"
     ]
    }
   ],
   "source": [
    "print(\"danish\",\"john\",\"jimi\",\"albert\",sep=\"***\")"
   ]
  },
  {
   "cell_type": "code",
   "execution_count": 5,
   "metadata": {},
   "outputs": [
    {
     "name": "stdout",
     "output_type": "stream",
     "text": [
      "danish\\john\\jimi\\albert\n"
     ]
    }
   ],
   "source": [
    "print(\"danish\",\"john\",\"jimi\",\"albert\",sep=\"\\\\\")"
   ]
  },
  {
   "cell_type": "code",
   "execution_count": 6,
   "metadata": {},
   "outputs": [
    {
     "name": "stdout",
     "output_type": "stream",
     "text": [
      "danishjohnjimialbert\n"
     ]
    }
   ],
   "source": [
    "print(\"danish\",\"john\",\"jimi\",\"albert\",sep=\"\")"
   ]
  },
  {
   "cell_type": "code",
   "execution_count": 7,
   "metadata": {},
   "outputs": [
    {
     "name": "stdout",
     "output_type": "stream",
     "text": [
      "danish\n",
      "kashif\n",
      "riaz\n"
     ]
    }
   ],
   "source": [
    "print(\"danish\")\n",
    "print(\"kashif\")\n",
    "print(\"riaz\")"
   ]
  },
  {
   "cell_type": "code",
   "execution_count": 8,
   "metadata": {},
   "outputs": [
    {
     "name": "stdout",
     "output_type": "stream",
     "text": [
      "danish kashif riaz\n"
     ]
    }
   ],
   "source": [
    "print(\"danish\",end=\" \")\n",
    "print(\"kashif\",end=\" \")\n",
    "print(\"riaz\")"
   ]
  }
 ],
 "metadata": {
  "kernelspec": {
   "display_name": "Python 3",
   "language": "python",
   "name": "python3"
  },
  "language_info": {
   "codemirror_mode": {
    "name": "ipython",
    "version": 3
   },
   "file_extension": ".py",
   "mimetype": "text/x-python",
   "name": "python",
   "nbconvert_exporter": "python",
   "pygments_lexer": "ipython3",
   "version": "3.7.3"
  }
 },
 "nbformat": 4,
 "nbformat_minor": 2
}
